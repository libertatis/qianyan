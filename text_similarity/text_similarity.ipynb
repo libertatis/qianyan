{
 "cells": [
  {
   "cell_type": "code",
   "execution_count": 1,
   "metadata": {
    "collapsed": false
   },
   "outputs": [
    {
     "name": "stdout",
     "output_type": "stream",
     "text": [
      "Requirement already up-to-date: paddlenlp in /opt/conda/envs/python35-paddle120-env/lib/python3.7/site-packages (2.0.6)\n",
      "Requirement already satisfied, skipping upgrade: h5py in /opt/conda/envs/python35-paddle120-env/lib/python3.7/site-packages (from paddlenlp) (2.9.0)\n",
      "Requirement already satisfied, skipping upgrade: multiprocess in /opt/conda/envs/python35-paddle120-env/lib/python3.7/site-packages (from paddlenlp) (0.70.11.1)\n",
      "Requirement already satisfied, skipping upgrade: colorama in /opt/conda/envs/python35-paddle120-env/lib/python3.7/site-packages (from paddlenlp) (0.4.4)\n",
      "Requirement already satisfied, skipping upgrade: jieba in /opt/conda/envs/python35-paddle120-env/lib/python3.7/site-packages (from paddlenlp) (0.42.1)\n",
      "Requirement already satisfied, skipping upgrade: colorlog in /opt/conda/envs/python35-paddle120-env/lib/python3.7/site-packages (from paddlenlp) (4.1.0)\n",
      "Requirement already satisfied, skipping upgrade: seqeval in /opt/conda/envs/python35-paddle120-env/lib/python3.7/site-packages (from paddlenlp) (1.2.2)\n",
      "Requirement already satisfied, skipping upgrade: visualdl in /opt/conda/envs/python35-paddle120-env/lib/python3.7/site-packages (from paddlenlp) (2.2.0)\n",
      "Requirement already satisfied, skipping upgrade: six in /opt/conda/envs/python35-paddle120-env/lib/python3.7/site-packages (from h5py->paddlenlp) (1.15.0)\n",
      "Requirement already satisfied, skipping upgrade: numpy>=1.7 in /opt/conda/envs/python35-paddle120-env/lib/python3.7/site-packages (from h5py->paddlenlp) (1.20.3)\n",
      "Requirement already satisfied, skipping upgrade: dill>=0.3.3 in /opt/conda/envs/python35-paddle120-env/lib/python3.7/site-packages (from multiprocess->paddlenlp) (0.3.3)\n",
      "Requirement already satisfied, skipping upgrade: scikit-learn>=0.21.3 in /opt/conda/envs/python35-paddle120-env/lib/python3.7/site-packages (from seqeval->paddlenlp) (0.24.2)\n",
      "Requirement already satisfied, skipping upgrade: flask>=1.1.1 in /opt/conda/envs/python35-paddle120-env/lib/python3.7/site-packages (from visualdl->paddlenlp) (1.1.1)\n",
      "Requirement already satisfied, skipping upgrade: Flask-Babel>=1.0.0 in /opt/conda/envs/python35-paddle120-env/lib/python3.7/site-packages (from visualdl->paddlenlp) (1.0.0)\n",
      "Requirement already satisfied, skipping upgrade: Pillow>=7.0.0 in /opt/conda/envs/python35-paddle120-env/lib/python3.7/site-packages (from visualdl->paddlenlp) (7.1.2)\n",
      "Requirement already satisfied, skipping upgrade: bce-python-sdk in /opt/conda/envs/python35-paddle120-env/lib/python3.7/site-packages (from visualdl->paddlenlp) (0.8.53)\n",
      "Requirement already satisfied, skipping upgrade: pre-commit in /opt/conda/envs/python35-paddle120-env/lib/python3.7/site-packages (from visualdl->paddlenlp) (1.21.0)\n",
      "Requirement already satisfied, skipping upgrade: matplotlib in /opt/conda/envs/python35-paddle120-env/lib/python3.7/site-packages (from visualdl->paddlenlp) (2.2.3)\n",
      "Requirement already satisfied, skipping upgrade: shellcheck-py in /opt/conda/envs/python35-paddle120-env/lib/python3.7/site-packages (from visualdl->paddlenlp) (0.7.1.1)\n",
      "Requirement already satisfied, skipping upgrade: requests in /opt/conda/envs/python35-paddle120-env/lib/python3.7/site-packages (from visualdl->paddlenlp) (2.22.0)\n",
      "Requirement already satisfied, skipping upgrade: flake8>=3.7.9 in /opt/conda/envs/python35-paddle120-env/lib/python3.7/site-packages (from visualdl->paddlenlp) (3.8.2)\n",
      "Requirement already satisfied, skipping upgrade: protobuf>=3.11.0 in /opt/conda/envs/python35-paddle120-env/lib/python3.7/site-packages (from visualdl->paddlenlp) (3.14.0)\n",
      "Requirement already satisfied, skipping upgrade: pandas in /opt/conda/envs/python35-paddle120-env/lib/python3.7/site-packages (from visualdl->paddlenlp) (1.1.5)\n",
      "Requirement already satisfied, skipping upgrade: scipy>=0.19.1 in /opt/conda/envs/python35-paddle120-env/lib/python3.7/site-packages (from scikit-learn>=0.21.3->seqeval->paddlenlp) (1.6.3)\n",
      "Requirement already satisfied, skipping upgrade: joblib>=0.11 in /opt/conda/envs/python35-paddle120-env/lib/python3.7/site-packages (from scikit-learn>=0.21.3->seqeval->paddlenlp) (0.14.1)\n",
      "Requirement already satisfied, skipping upgrade: threadpoolctl>=2.0.0 in /opt/conda/envs/python35-paddle120-env/lib/python3.7/site-packages (from scikit-learn>=0.21.3->seqeval->paddlenlp) (2.1.0)\n",
      "Requirement already satisfied, skipping upgrade: Werkzeug>=0.15 in /opt/conda/envs/python35-paddle120-env/lib/python3.7/site-packages (from flask>=1.1.1->visualdl->paddlenlp) (0.16.0)\n",
      "Requirement already satisfied, skipping upgrade: Jinja2>=2.10.1 in /opt/conda/envs/python35-paddle120-env/lib/python3.7/site-packages (from flask>=1.1.1->visualdl->paddlenlp) (2.10.1)\n",
      "Requirement already satisfied, skipping upgrade: itsdangerous>=0.24 in /opt/conda/envs/python35-paddle120-env/lib/python3.7/site-packages (from flask>=1.1.1->visualdl->paddlenlp) (1.1.0)\n",
      "Requirement already satisfied, skipping upgrade: click>=5.1 in /opt/conda/envs/python35-paddle120-env/lib/python3.7/site-packages (from flask>=1.1.1->visualdl->paddlenlp) (7.0)\n",
      "Requirement already satisfied, skipping upgrade: pytz in /opt/conda/envs/python35-paddle120-env/lib/python3.7/site-packages (from Flask-Babel>=1.0.0->visualdl->paddlenlp) (2019.3)\n",
      "Requirement already satisfied, skipping upgrade: Babel>=2.3 in /opt/conda/envs/python35-paddle120-env/lib/python3.7/site-packages (from Flask-Babel>=1.0.0->visualdl->paddlenlp) (2.8.0)\n",
      "Requirement already satisfied, skipping upgrade: pycryptodome>=3.8.0 in /opt/conda/envs/python35-paddle120-env/lib/python3.7/site-packages (from bce-python-sdk->visualdl->paddlenlp) (3.9.9)\n",
      "Requirement already satisfied, skipping upgrade: future>=0.6.0 in /opt/conda/envs/python35-paddle120-env/lib/python3.7/site-packages (from bce-python-sdk->visualdl->paddlenlp) (0.18.0)\n",
      "Requirement already satisfied, skipping upgrade: aspy.yaml in /opt/conda/envs/python35-paddle120-env/lib/python3.7/site-packages (from pre-commit->visualdl->paddlenlp) (1.3.0)\n",
      "Requirement already satisfied, skipping upgrade: pyyaml in /opt/conda/envs/python35-paddle120-env/lib/python3.7/site-packages (from pre-commit->visualdl->paddlenlp) (5.1.2)\n",
      "Requirement already satisfied, skipping upgrade: virtualenv>=15.2 in /opt/conda/envs/python35-paddle120-env/lib/python3.7/site-packages (from pre-commit->visualdl->paddlenlp) (16.7.9)\n",
      "Requirement already satisfied, skipping upgrade: importlib-metadata; python_version < \"3.8\" in /opt/conda/envs/python35-paddle120-env/lib/python3.7/site-packages (from pre-commit->visualdl->paddlenlp) (0.23)\n",
      "Requirement already satisfied, skipping upgrade: identify>=1.0.0 in /opt/conda/envs/python35-paddle120-env/lib/python3.7/site-packages (from pre-commit->visualdl->paddlenlp) (1.4.10)\n",
      "Requirement already satisfied, skipping upgrade: nodeenv>=0.11.1 in /opt/conda/envs/python35-paddle120-env/lib/python3.7/site-packages (from pre-commit->visualdl->paddlenlp) (1.3.4)\n",
      "Requirement already satisfied, skipping upgrade: cfgv>=2.0.0 in /opt/conda/envs/python35-paddle120-env/lib/python3.7/site-packages (from pre-commit->visualdl->paddlenlp) (2.0.1)\n",
      "Requirement already satisfied, skipping upgrade: toml in /opt/conda/envs/python35-paddle120-env/lib/python3.7/site-packages (from pre-commit->visualdl->paddlenlp) (0.10.0)\n",
      "Requirement already satisfied, skipping upgrade: cycler>=0.10 in /opt/conda/envs/python35-paddle120-env/lib/python3.7/site-packages (from matplotlib->visualdl->paddlenlp) (0.10.0)\n",
      "Requirement already satisfied, skipping upgrade: python-dateutil>=2.1 in /opt/conda/envs/python35-paddle120-env/lib/python3.7/site-packages (from matplotlib->visualdl->paddlenlp) (2.8.0)\n",
      "Requirement already satisfied, skipping upgrade: kiwisolver>=1.0.1 in /opt/conda/envs/python35-paddle120-env/lib/python3.7/site-packages (from matplotlib->visualdl->paddlenlp) (1.1.0)\n",
      "Requirement already satisfied, skipping upgrade: pyparsing!=2.0.4,!=2.1.2,!=2.1.6,>=2.0.1 in /opt/conda/envs/python35-paddle120-env/lib/python3.7/site-packages (from matplotlib->visualdl->paddlenlp) (2.4.2)\n",
      "Requirement already satisfied, skipping upgrade: idna<2.9,>=2.5 in /opt/conda/envs/python35-paddle120-env/lib/python3.7/site-packages (from requests->visualdl->paddlenlp) (2.8)\n",
      "Requirement already satisfied, skipping upgrade: urllib3!=1.25.0,!=1.25.1,<1.26,>=1.21.1 in /opt/conda/envs/python35-paddle120-env/lib/python3.7/site-packages (from requests->visualdl->paddlenlp) (1.25.6)\n",
      "Requirement already satisfied, skipping upgrade: certifi>=2017.4.17 in /opt/conda/envs/python35-paddle120-env/lib/python3.7/site-packages (from requests->visualdl->paddlenlp) (2019.9.11)\n",
      "Requirement already satisfied, skipping upgrade: chardet<3.1.0,>=3.0.2 in /opt/conda/envs/python35-paddle120-env/lib/python3.7/site-packages (from requests->visualdl->paddlenlp) (3.0.4)\n",
      "Requirement already satisfied, skipping upgrade: mccabe<0.7.0,>=0.6.0 in /opt/conda/envs/python35-paddle120-env/lib/python3.7/site-packages (from flake8>=3.7.9->visualdl->paddlenlp) (0.6.1)\n",
      "Requirement already satisfied, skipping upgrade: pycodestyle<2.7.0,>=2.6.0a1 in /opt/conda/envs/python35-paddle120-env/lib/python3.7/site-packages (from flake8>=3.7.9->visualdl->paddlenlp) (2.6.0)\n",
      "Requirement already satisfied, skipping upgrade: pyflakes<2.3.0,>=2.2.0 in /opt/conda/envs/python35-paddle120-env/lib/python3.7/site-packages (from flake8>=3.7.9->visualdl->paddlenlp) (2.2.0)\n",
      "Requirement already satisfied, skipping upgrade: MarkupSafe>=0.23 in /opt/conda/envs/python35-paddle120-env/lib/python3.7/site-packages (from Jinja2>=2.10.1->flask>=1.1.1->visualdl->paddlenlp) (1.1.1)\n",
      "Requirement already satisfied, skipping upgrade: zipp>=0.5 in /opt/conda/envs/python35-paddle120-env/lib/python3.7/site-packages (from importlib-metadata; python_version < \"3.8\"->pre-commit->visualdl->paddlenlp) (0.6.0)\n",
      "Requirement already satisfied, skipping upgrade: setuptools in /opt/conda/envs/python35-paddle120-env/lib/python3.7/site-packages (from kiwisolver>=1.0.1->matplotlib->visualdl->paddlenlp) (56.2.0)\n",
      "Requirement already satisfied, skipping upgrade: more-itertools in /opt/conda/envs/python35-paddle120-env/lib/python3.7/site-packages (from zipp>=0.5->importlib-metadata; python_version < \"3.8\"->pre-commit->visualdl->paddlenlp) (7.2.0)\n"
     ]
    }
   ],
   "source": [
    "!pip install --upgrade paddlenlp -i https://pypi.org/simple"
   ]
  },
  {
   "cell_type": "code",
   "execution_count": 2,
   "metadata": {
    "collapsed": false
   },
   "outputs": [],
   "source": [
    "import json\n",
    "import math\n",
    "import os\n",
    "import random\n",
    "import time\n",
    "from functools import partial\n",
    "\n",
    "import numpy as np\n",
    "import paddle\n",
    "import paddlenlp\n",
    "\n",
    "from paddle.io import DataLoader\n",
    "from paddle.io import BatchSampler\n",
    "\n",
    "from paddlenlp.data import Dict\n",
    "from paddlenlp.data import Pad\n",
    "from paddlenlp.data import Stack\n",
    "from paddlenlp.data import Tuple\n",
    "\n",
    "from paddlenlp.datasets import load_dataset\n",
    "from paddlenlp.transformers import BertForSequenceClassification, BertTokenizer\n",
    "from paddlenlp.transformers import ErnieForSequenceClassification, ErnieTokenizer\n",
    "from paddlenlp.transformers import ErnieGramForSequenceClassification, ErnieGramTokenizer\n",
    "from paddlenlp.transformers import RobertaForSequenceClassification, RobertaTokenizer\n",
    "from paddlenlp.transformers import LinearDecayWithWarmup\n",
    "\n",
    "# from utils import conver_example\n",
    "from config import Config"
   ]
  },
  {
   "cell_type": "code",
   "execution_count": 3,
   "metadata": {
    "collapsed": false
   },
   "outputs": [
    {
     "name": "stdout",
     "output_type": "stream",
     "text": [
      "Min:    6\n",
      "Max:    204\n",
      "Mean:    26.71953\n",
      "25th percentile:    19.0\n",
      "Median:             24.0\n",
      "75th percentile:    31.0\n",
      "95th percentile:    48.0\n",
      "99th percentile:    67.0\n",
      "99.9th percentile:    67.0\n"
     ]
    },
    {
     "data": {
      "image/png": "[encoded data removed]",
      "text/plain": [
       "<Figure size 432x288 with 1 Axes>"
      ]
     },
     "metadata": {},
     "output_type": "display_data"
    }
   ],
   "source": [
    "import numpy as np\r\n",
    "import matplotlib.pyplot as plt\r\n",
    "%matplotlib inline\r\n",
    "import seaborn as sns\r\n",
    "from paddlenlp.datasets import load_dataset\r\n",
    "\r\n",
    "train_ds =  load_dataset('bq_corpus', splits=['train'])\r\n",
    "# train_ds =  load_dataset('paws-x', splits=['train'])\r\n",
    "# train_ds =  load_dataset('lcqmc', splits=['train'])\r\n",
    "input_length = []\r\n",
    "for idx, example in enumerate(train_ds):\r\n",
    "    input_length.append(\r\n",
    "        len(example['sentence2']) + len(example['sentence1']) + 3\r\n",
    "    )\r\n",
    "\r\n",
    "input_length_array = np.array(input_length)\r\n",
    "\r\n",
    "print(\"Min:   \", np.min(input_length_array))\r\n",
    "print(\"Max:   \", np.max(input_length_array))\r\n",
    "print(\"Mean:   \", np.mean(input_length_array))\r\n",
    "print(\"25th percentile:   \", np.percentile(input_length_array, 25))\r\n",
    "print(\"Median:            \", np.median(input_length_array))\r\n",
    "print(\"75th percentile:   \", np.percentile(input_length_array, 75))\r\n",
    "print(\"95th percentile:   \", np.percentile(input_length_array, 95))\r\n",
    "print(\"99th percentile:   \", np.percentile(input_length_array, 99))\r\n",
    "print(\"99.9th percentile:   \", np.percentile(input_length_array, 99))\r\n",
    "\r\n",
    "sns.set(color_codes=True)\r\n",
    "ax = sns.distplot(input_length)\r\n",
    "ax.set_title('Distribution of Context Length')\r\n",
    "ax.set_ylabel('Context Length')\r\n",
    "plt.savefig('context_length.png')\r\n",
    "plt.show()"
   ]
  },
  {
   "cell_type": "code",
   "execution_count": 4,
   "metadata": {
    "collapsed": false
   },
   "outputs": [],
   "source": [
    "from paddlenlp.datasets import load_dataset\r\n",
    "\r\n",
    "train_ds =  load_dataset('bq_corpus', splits=['train'])\r\n",
    "# train_ds =  load_dataset('paws-x', splits=['train'])\r\n",
    "# train_ds =  load_dataset('lcqmc', splits=['train'])\r\n",
    "\r\n",
    "for idx, example in enumerate(train_ds):\r\n",
    "    len1 = len(example['sentence1'])\r\n",
    "    len2 = len(example['sentence2'])\r\n",
    "    if len1 >= 128:\r\n",
    "        print(len1, len2) \r\n"
   ]
  },
  {
   "cell_type": "markdown",
   "metadata": {
    "collapsed": false
   },
   "source": [
    "```\n",
    "# sentence1 length\n",
    "\n",
    "Min:    1\n",
    "Max:    113\n",
    "Mean:    11.61198\n",
    "25th percentile:    7.0\n",
    "Median:             10.0\n",
    "75th percentile:    14.0\n",
    "95th percentile:    24.0\n",
    "99th percentile:    38.0\n",
    "99.9th percentile:    38.0\n",
    "```\n",
    "\n",
    "```\n",
    "# sentence2 length\n",
    "\n",
    "Min:    1\n",
    "Max:    153\n",
    "Mean:    12.10755\n",
    "25th percentile:    7.0\n",
    "Median:             10.0\n",
    "75th percentile:    14.0\n",
    "95th percentile:    26.0\n",
    "99th percentile:    39.0\n",
    "99.9th percentile:    39.0\n",
    "```\n",
    "\n",
    "```\n",
    "# sentence1 + sentence1 length\n",
    "Min:    3\n",
    "Max:    201\n",
    "Mean:    23.71953\n",
    "25th percentile:    16.0\n",
    "Median:             21.0\n",
    "75th percentile:    28.0\n",
    "95th percentile:    45.0\n",
    "99th percentile:    64.0\n",
    "99.9th percentile:    64.0\n",
    "```"
   ]
  },
  {
   "cell_type": "code",
   "execution_count": 5,
   "metadata": {
    "collapsed": false
   },
   "outputs": [],
   "source": [
    "MODEL_CLASSES = {\r\n",
    "    \"bert\": (BertForSequenceClassification, BertTokenizer),\r\n",
    "    \"ernie\": (ErnieForSequenceClassification, ErnieTokenizer),\r\n",
    "    'ernie-gram': (ErnieGramForSequenceClassification, ErnieGramTokenizer),\r\n",
    "    'roberta': (RobertaForSequenceClassification, RobertaTokenizer)\r\n",
    "}"
   ]
  },
  {
   "cell_type": "code",
   "execution_count": 6,
   "metadata": {
    "collapsed": false
   },
   "outputs": [],
   "source": [
    "def set_seed(args):\r\n",
    "    random.seed(args.seed)\r\n",
    "    np.random.seed(args.seed)\r\n",
    "    paddle.seed(args.seed)"
   ]
  },
  {
   "cell_type": "code",
   "execution_count": 7,
   "metadata": {
    "collapsed": false
   },
   "outputs": [],
   "source": [
    "def convert_example(example, tokenizer, max_seq_len=512, is_test=False):\r\n",
    "\r\n",
    "    query, title = example['sentence1'], example['sentence2']\r\n",
    "\r\n",
    "    encoded_inputs = tokenizer(text=query, text_pair=title, max_seq_len=max_seq_len)\r\n",
    "\r\n",
    "    input_ids = encoded_inputs['input_ids']\r\n",
    "    token_type_ids = encoded_inputs['token_type_ids']\r\n",
    "\r\n",
    "    if not is_test:\r\n",
    "        label = np.array([example['label']], dtype='int64')\r\n",
    "        return input_ids, token_type_ids, label\r\n",
    "    else:\r\n",
    "        return input_ids, token_type_ids"
   ]
  },
  {
   "cell_type": "code",
   "execution_count": 8,
   "metadata": {
    "collapsed": false
   },
   "outputs": [],
   "source": [
    "@paddle.no_grad()\r\n",
    "def evaluate(model, criterion, metric, data_loader):\r\n",
    "    model.eval()\r\n",
    "    metric.reset()\r\n",
    "    \r\n",
    "    losses = []\r\n",
    "\r\n",
    "    for batch in data_loader:\r\n",
    "        input_ids, token_type_ids, labels = batch\r\n",
    "        probs = model(input_ids=input_ids, token_type_ids=token_type_ids)\r\n",
    "\r\n",
    "        loss = criterion(probs, labels)\r\n",
    "        losses.append(loss.numpy())\r\n",
    "\r\n",
    "        correct = metric.compute(probs, labels)\r\n",
    "        metric.update(correct)\r\n",
    "        accu = metric.accumulate()\r\n",
    "    \r\n",
    "    model.train()\r\n",
    "    metric.reset()\r\n",
    "\r\n",
    "    return np.mean(losses), accu"
   ]
  },
  {
   "cell_type": "code",
   "execution_count": 9,
   "metadata": {
    "collapsed": false
   },
   "outputs": [],
   "source": [
    "def do_train(args):\r\n",
    "    paddle.set_device(args.device)\r\n",
    "    set_seed(args)\r\n",
    "\r\n",
    "    args.model_type = args.model_type.lower()\r\n",
    "    model_class, tokenizer_class = MODEL_CLASSES[args.model_type]\r\n",
    "    tokenizer = tokenizer_class.from_pretrained(args.model_name_or_path)\r\n",
    "\r\n",
    "    train_ds, dev_ds = load_dataset('bq_corpus', splits=['train', 'dev'], lazy=False)\r\n",
    "    # train_ds, dev_ds = load_dataset('paws-x', splits=['train', 'dev'], lazy=False)\r\n",
    "    # train_ds, dev_ds = load_dataset('lcqmc', splits=['train', 'dev'], lazy=False)\r\n",
    "\r\n",
    "    trans_fn = partial(\r\n",
    "        convert_example, \r\n",
    "        tokenizer=tokenizer, \r\n",
    "        max_seq_len=args.max_seq_len\r\n",
    "    )\r\n",
    "    train_ds.map(trans_fn)\r\n",
    "    dev_ds.map(trans_fn)\r\n",
    "\r\n",
    "    train_batch_sampler = BatchSampler(\r\n",
    "        dataset=train_ds, \r\n",
    "        batch_size=args.batch_size, \r\n",
    "        shuffle=True\r\n",
    "    )\r\n",
    "    dev_batch_sampler = BatchSampler(\r\n",
    "        dataset=dev_ds,\r\n",
    "        batch_size=args.batch_size,\r\n",
    "        shuffle=False\r\n",
    "    )\r\n",
    "\r\n",
    "    batchify_fn = lambda samples, fn=Tuple(\r\n",
    "        Pad(axis=0, pad_val=tokenizer.pad_token_id),\r\n",
    "        Pad(axis=0, pad_val=tokenizer.pad_token_type_id),\r\n",
    "        Stack(dtype='int64')\r\n",
    "    ): [data for data in fn(samples)]\r\n",
    "\r\n",
    "    train_data_loader = DataLoader(\r\n",
    "        dataset=train_ds,\r\n",
    "        batch_sampler=train_batch_sampler,\r\n",
    "        collate_fn=batchify_fn,\r\n",
    "        return_list=True\r\n",
    "    )\r\n",
    "    dev_data_loader = DataLoader(\r\n",
    "        dataset=dev_ds,\r\n",
    "        batch_sampler=dev_batch_sampler,\r\n",
    "        collate_fn=batchify_fn,\r\n",
    "        return_list=True\r\n",
    "    )\r\n",
    "\r\n",
    "    save_dir = os.path.join(args.save_dir, 'best_model')\r\n",
    "    if not os.path.exists(save_dir):\r\n",
    "        os.makedirs(save_dir)\r\n",
    "\r\n",
    "    # model = model_class.from_pretrained(args.model_name_or_path)\r\n",
    "    model = model_class.from_pretrained(save_dir)\r\n",
    "\r\n",
    "    num_training_steps = args.max_steps if args.max_steps > 0 else len(\r\n",
    "        train_data_loader) * args.num_train_epochs\r\n",
    "    num_train_epochs = math.ceil(num_training_steps /\r\n",
    "                                    len(train_data_loader))\r\n",
    "    num_batchs = len(train_data_loader)\r\n",
    "\r\n",
    "    lr_scheduler = LinearDecayWithWarmup(\r\n",
    "        learning_rate=args.learning_rate, \r\n",
    "        total_steps=num_training_steps,\r\n",
    "        warmup=args.warmup_proportion\r\n",
    "    )\r\n",
    "\r\n",
    "    # Generate parameter names needed to perform weight decay.\r\n",
    "    # All bias and LayerNorm parameters are excluded.\r\n",
    "    decay_params = [\r\n",
    "        p.name for n, p in model.named_parameters()\r\n",
    "        if not any(nd in n for nd in [\"bias\", \"norm\"])\r\n",
    "    ]\r\n",
    "    optimizer = paddle.optimizer.AdamW(\r\n",
    "        learning_rate=lr_scheduler,\r\n",
    "        epsilon=args.adam_epsilon,\r\n",
    "        parameters=model.parameters(),\r\n",
    "        weight_decay=args.weight_decay,\r\n",
    "        apply_decay_param_fun=lambda x: x in decay_params\r\n",
    "    )\r\n",
    "    criterion = paddle.nn.CrossEntropyLoss()\r\n",
    "    metric = paddle.metric.Accuracy()\r\n",
    "\r\n",
    "    best_acc = 0.0\r\n",
    "        \r\n",
    "    global_step = 0\r\n",
    "\r\n",
    "    tic_train = time.time()\r\n",
    "    for epoch in range(1, num_train_epochs + 1):\r\n",
    "        for step, batch in enumerate(train_data_loader, start=1):\r\n",
    "            \r\n",
    "            global_step += 1\r\n",
    "            \r\n",
    "            input_ids, token_type_ids, labels = batch\r\n",
    "\r\n",
    "            logits = model(\r\n",
    "                input_ids=input_ids, token_type_ids=token_type_ids)\r\n",
    "            loss = criterion(logits, labels)\r\n",
    "\r\n",
    "            correct = metric.compute(logits, labels)\r\n",
    "            metric.update(correct)\r\n",
    "            acc = metric.accumulate()\r\n",
    "\r\n",
    "            if global_step % args.logging_steps == 0:\r\n",
    "                \r\n",
    "                print(\r\n",
    "                    \"global step %d, epoch: %d, batch: %d/%d, loss: %.5f, acc: %.5f speed: %.2f step/s, lr: %1.10e\"\r\n",
    "                    % (global_step, epoch, step, num_batchs, loss, acc,\r\n",
    "                        args.logging_steps / (time.time() - tic_train), lr_scheduler.get_lr()))\r\n",
    "                \r\n",
    "                tic_train = time.time()\r\n",
    "            \r\n",
    "            loss.backward()\r\n",
    "            optimizer.step()\r\n",
    "            # lr_scheduler.step()\r\n",
    "            optimizer.clear_grad()\r\n",
    "\r\n",
    "            if global_step % args.save_steps == 0 or global_step == num_training_steps:\r\n",
    "                loss, acc = evaluate(model, criterion, metric, dev_data_loader)\r\n",
    "                print(f'eval dev loss: {loss:.5f}, accu: {acc:.5f}')\r\n",
    "                \r\n",
    "                if acc > best_acc:\r\n",
    "                    best_acc = acc\r\n",
    "                    print(f'save model at global step {global_step}, best dev acc: {acc:.5f}')\r\n",
    "\r\n",
    "                    model.save_pretrained(save_dir)\r\n",
    "                    tokenizer.save_pretrained(save_dir)\r\n",
    "                \r\n",
    "                    print('Saving checkpoint to:', save_dir)\r\n",
    "                \r\n",
    "                if global_step == num_training_steps:\r\n",
    "                    break"
   ]
  },
  {
   "cell_type": "code",
   "execution_count": 10,
   "metadata": {
    "collapsed": false
   },
   "outputs": [],
   "source": [
    "@paddle.no_grad()\r\n",
    "def predict(model, data_loader):\r\n",
    "    model.eval()\r\n",
    "    batch_probs = []\r\n",
    "    for batch_data in data_loader:\r\n",
    "        input_ids, token_type_ids = batch_data\r\n",
    "        batch_prob = model(input_ids=input_ids, token_type_ids=token_type_ids)\r\n",
    "        batch_probs.append(batch_prob.numpy())\r\n",
    "    batch_probs = np.concatenate(batch_probs, axis=0)\r\n",
    "    return batch_probs"
   ]
  },
  {
   "cell_type": "code",
   "execution_count": 11,
   "metadata": {
    "collapsed": false
   },
   "outputs": [],
   "source": [
    "def do_predict(args):\r\n",
    "\r\n",
    "    paddle.set_device(args.device)\r\n",
    "\r\n",
    "    save_dir = os.path.join(args.save_dir, \"best_model\")\r\n",
    "\r\n",
    "    model_class, tokenizer_class = MODEL_CLASSES[args.model_type]\r\n",
    "    tokenizer = tokenizer_class.from_pretrained(save_dir)\r\n",
    "\r\n",
    "    # 1. 加载测试集\r\n",
    "    test_ds = load_dataset('bq_corpus', splits=['test'], lazy=False)\r\n",
    "    # test_ds = load_dataset('paws-x', splits=['test'], lazy=False)\r\n",
    "    # test_ds = load_dataset('lcqmc', splits=['test'], lazy=False)\r\n",
    "\r\n",
    "    # 2. 转化为 id\r\n",
    "    test_trans_func = partial(\r\n",
    "        convert_example,\r\n",
    "        tokenizer=tokenizer,\r\n",
    "        max_seq_len=args.max_seq_len,\r\n",
    "        is_test=True\r\n",
    "    )\r\n",
    "    test_ds.map(test_trans_func)\r\n",
    "\r\n",
    "    # test BatchSampler\r\n",
    "    test_batch_sampler = BatchSampler(\r\n",
    "        dataset=test_ds, \r\n",
    "        batch_size=args.batch_size, \r\n",
    "        shuffle=False\r\n",
    "    )\r\n",
    "\r\n",
    "    # test dataset features batchify\r\n",
    "    test_batchify_fn = lambda samples, fn=Tuple(\r\n",
    "        Pad(axis=0, pad_val=tokenizer.pad_token_id),\r\n",
    "        Pad(axis=0, pad_val=tokenizer.pad_token_type_id),\r\n",
    "    ): [data for data in fn(samples)]\r\n",
    "\r\n",
    "    # test DataLoader\r\n",
    "    test_data_loader =  DataLoader(\r\n",
    "        dataset=test_ds,\r\n",
    "        batch_sampler=test_batch_sampler,\r\n",
    "        collate_fn=test_batchify_fn,\r\n",
    "        return_list=True\r\n",
    "    )\r\n",
    "\r\n",
    "    model = model_class.from_pretrained(save_dir)\r\n",
    "    \r\n",
    "    y_probs = predict(model, test_data_loader)\r\n",
    "    y_preds = np.argmax(y_probs, axis=1)\r\n",
    "    \r\n",
    "    with open('bq_corpus.tsv', 'w', encoding='utf-8') as fWriter:\r\n",
    "        \r\n",
    "        fWriter.write('index\\tprediction\\n')\r\n",
    "        for idx, y_pred in enumerate(y_preds):\r\n",
    "            fWriter.write('{}\\t{}\\n'.format(idx, y_pred))\r\n",
    "            \r\n",
    "            # text_pair = test_ds[idx]\r\n",
    "            # text_pair['label'] = y_pred\r\n",
    "            # print(text_pair)\r\n",
    "\r\n"
   ]
  },
  {
   "cell_type": "code",
   "execution_count": 12,
   "metadata": {
    "collapsed": false
   },
   "outputs": [],
   "source": [
    "args = Config(model_type='ernie-gram', \r\n",
    "              model_name_or_path='ernie-gram-zh', \r\n",
    "              save_dir='./outputs/bq_corpus/ernie-gram',\r\n",
    "              \r\n",
    "              max_seq_len=128,\r\n",
    "              batch_size=64, \r\n",
    "              learning_rate=1e-6,\r\n",
    "              num_train_epochs=2,\r\n",
    "              logging_steps=20,\r\n",
    "              save_steps=200,\r\n",
    "              warmup_proportion=0.1,\r\n",
    "              weight_decay=0.01)"
   ]
  },
  {
   "cell_type": "code",
   "execution_count": null,
   "metadata": {
    "collapsed": false
   },
   "outputs": [
    {
     "name": "stderr",
     "output_type": "stream",
     "text": [
      "[2021-07-21 03:56:54,995] [    INFO] - Found /home/aistudio/.paddlenlp/models/ernie-gram-zh/vocab.txt\n"
     ]
    },
    {
     "name": "stdout",
     "output_type": "stream",
     "text": [
      "global step 20, epoch: 1, batch: 20/1563, loss: 0.06537, acc: 0.99453 speed: 4.21 step/s\n"
     ]
    }
   ],
   "source": [
    "do_train(args)"
   ]
  },
  {
   "cell_type": "code",
   "execution_count": null,
   "metadata": {
    "collapsed": false
   },
   "outputs": [],
   "source": [
    "do_predict(args)"
   ]
  },
  {
   "cell_type": "markdown",
   "metadata": {
    "collapsed": false
   },
   "source": [
    "请点击[此处](https://ai.baidu.com/docs#/AIStudio_Project_Notebook/a38e5576)查看本环境基本用法.  <br>\n",
    "Please click [here ](https://ai.baidu.com/docs#/AIStudio_Project_Notebook/a38e5576) for more detailed instructions. "
   ]
  }
 ],
 "metadata": {
  "kernelspec": {
   "display_name": "PaddlePaddle 2.1.0 (Python 3.5)",
   "language": "python",
   "name": "py35-paddle1.2.0"
  },
  "language_info": {
   "codemirror_mode": {
    "name": "ipython",
    "version": 3
   },
   "file_extension": ".py",
   "mimetype": "text/x-python",
   "name": "python",
   "nbconvert_exporter": "python",
   "pygments_lexer": "ipython3",
   "version": "3.7.4"
  }
 },
 "nbformat": 4,
 "nbformat_minor": 1
}
